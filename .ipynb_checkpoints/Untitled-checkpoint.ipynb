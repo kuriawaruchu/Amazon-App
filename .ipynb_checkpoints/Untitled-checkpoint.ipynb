{
 "cells": [
  {
   "cell_type": "code",
   "execution_count": 10,
   "id": "c0d84385",
   "metadata": {},
   "outputs": [],
   "source": [
    "import streamlit as st\n",
    "import yfinance as yf\n",
    "import pandas as pd\n",
    "from statsmodels.tsa.statespace.sarimax import SARIMAX\n",
    "from PIL import Image"
   ]
  },
  {
   "cell_type": "code",
   "execution_count": 11,
   "id": "238f83de",
   "metadata": {},
   "outputs": [],
   "source": [
    "# Default parameters for training and SARIMA model\n",
    "DEFAULT_TRAIN_SIZE = 0.8\n",
    "DEFAULT_SARIMA_HYPERPARAMETERS = {\n",
    "    \"p\": 2,\n",
    "    \"d\": 0,\n",
    "    \"q\": 2,\n",
    "    \"seasonal_p\": 2,\n",
    "    \"seasonal_d\": 0,\n",
    "    \"seasonal_q\": 2,\n",
    "    \"s\": 5,\n",
    "}\n"
   ]
  },
  {
   "cell_type": "code",
   "execution_count": 14,
   "id": "6ce3534a",
   "metadata": {
    "scrolled": true
   },
   "outputs": [
    {
     "name": "stdout",
     "output_type": "stream",
     "text": [
      "[*********************100%%**********************]  1 of 1 completed\n"
     ]
    },
    {
     "data": {
      "text/html": [
       "<div>\n",
       "<style scoped>\n",
       "    .dataframe tbody tr th:only-of-type {\n",
       "        vertical-align: middle;\n",
       "    }\n",
       "\n",
       "    .dataframe tbody tr th {\n",
       "        vertical-align: top;\n",
       "    }\n",
       "\n",
       "    .dataframe thead th {\n",
       "        text-align: right;\n",
       "    }\n",
       "</style>\n",
       "<table border=\"1\" class=\"dataframe\">\n",
       "  <thead>\n",
       "    <tr style=\"text-align: right;\">\n",
       "      <th></th>\n",
       "      <th>Open</th>\n",
       "      <th>High</th>\n",
       "      <th>Low</th>\n",
       "      <th>Close</th>\n",
       "      <th>Adj Close</th>\n",
       "      <th>Volume</th>\n",
       "    </tr>\n",
       "    <tr>\n",
       "      <th>Date</th>\n",
       "      <th></th>\n",
       "      <th></th>\n",
       "      <th></th>\n",
       "      <th></th>\n",
       "      <th></th>\n",
       "      <th></th>\n",
       "    </tr>\n",
       "  </thead>\n",
       "  <tbody>\n",
       "    <tr>\n",
       "      <th>2008-01-02</th>\n",
       "      <td>4.7675</td>\n",
       "      <td>4.8715</td>\n",
       "      <td>4.7350</td>\n",
       "      <td>4.8125</td>\n",
       "      <td>4.8125</td>\n",
       "      <td>277174000</td>\n",
       "    </tr>\n",
       "    <tr>\n",
       "      <th>2008-01-03</th>\n",
       "      <td>4.8030</td>\n",
       "      <td>4.8625</td>\n",
       "      <td>4.7260</td>\n",
       "      <td>4.7605</td>\n",
       "      <td>4.7605</td>\n",
       "      <td>182450000</td>\n",
       "    </tr>\n",
       "    <tr>\n",
       "      <th>2008-01-04</th>\n",
       "      <td>4.6630</td>\n",
       "      <td>4.6700</td>\n",
       "      <td>4.4250</td>\n",
       "      <td>4.4395</td>\n",
       "      <td>4.4395</td>\n",
       "      <td>205400000</td>\n",
       "    </tr>\n",
       "    <tr>\n",
       "      <th>2008-01-07</th>\n",
       "      <td>4.4310</td>\n",
       "      <td>4.5285</td>\n",
       "      <td>4.2735</td>\n",
       "      <td>4.4410</td>\n",
       "      <td>4.4410</td>\n",
       "      <td>199632000</td>\n",
       "    </tr>\n",
       "    <tr>\n",
       "      <th>2008-01-08</th>\n",
       "      <td>4.3775</td>\n",
       "      <td>4.5915</td>\n",
       "      <td>4.3465</td>\n",
       "      <td>4.3940</td>\n",
       "      <td>4.3940</td>\n",
       "      <td>245666000</td>\n",
       "    </tr>\n",
       "  </tbody>\n",
       "</table>\n",
       "</div>"
      ],
      "text/plain": [
       "              Open    High     Low   Close  Adj Close     Volume\n",
       "Date                                                            \n",
       "2008-01-02  4.7675  4.8715  4.7350  4.8125     4.8125  277174000\n",
       "2008-01-03  4.8030  4.8625  4.7260  4.7605     4.7605  182450000\n",
       "2008-01-04  4.6630  4.6700  4.4250  4.4395     4.4395  205400000\n",
       "2008-01-07  4.4310  4.5285  4.2735  4.4410     4.4410  199632000\n",
       "2008-01-08  4.3775  4.5915  4.3465  4.3940     4.3940  245666000"
      ]
     },
     "execution_count": 14,
     "metadata": {},
     "output_type": "execute_result"
    }
   ],
   "source": [
    "data = yf.download(\"AMZN\",start='2008-01-01')\n",
    "\n",
    "df = pd.DataFrame(data)\n",
    "df.head(5)"
   ]
  },
  {
   "cell_type": "code",
   "execution_count": 15,
   "id": "a910f0fa",
   "metadata": {},
   "outputs": [
    {
     "name": "stdout",
     "output_type": "stream",
     "text": [
      "<class 'pandas.core.frame.DataFrame'>\n",
      "DatetimeIndex: 3976 entries, 2008-01-02 to 2023-10-17\n",
      "Data columns (total 6 columns):\n",
      " #   Column     Non-Null Count  Dtype  \n",
      "---  ------     --------------  -----  \n",
      " 0   Open       3976 non-null   float64\n",
      " 1   High       3976 non-null   float64\n",
      " 2   Low        3976 non-null   float64\n",
      " 3   Close      3976 non-null   float64\n",
      " 4   Adj Close  3976 non-null   float64\n",
      " 5   Volume     3976 non-null   int64  \n",
      "dtypes: float64(5), int64(1)\n",
      "memory usage: 217.4 KB\n"
     ]
    }
   ],
   "source": [
    "data.info()"
   ]
  },
  {
   "cell_type": "code",
   "execution_count": 17,
   "id": "307751c9",
   "metadata": {},
   "outputs": [
    {
     "data": {
      "text/plain": [
       "['Open', 'High', 'Low', 'Close', 'Adj Close', 'Volume']"
      ]
     },
     "execution_count": 17,
     "metadata": {},
     "output_type": "execute_result"
    }
   ],
   "source": [
    "# data.reset_index(inplace=True)\n",
    "columns_list = data.columns.to_list()\n",
    "columns_list"
   ]
  },
  {
   "cell_type": "code",
   "execution_count": 20,
   "id": "75fd4bfd",
   "metadata": {},
   "outputs": [],
   "source": [
    "sarima_hyperparameters = DEFAULT_SARIMA_HYPERPARAMETERS"
   ]
  },
  {
   "cell_type": "code",
   "execution_count": null,
   "id": "28415847",
   "metadata": {},
   "outputs": [],
   "source": [
    "end_date = pd.to_datetime(\"2024-01-01\")"
   ]
  },
  {
   "cell_type": "code",
   "execution_count": 18,
   "id": "dd6be96e",
   "metadata": {},
   "outputs": [],
   "source": [
    "def create_and_predict_sarima_model(data, date_column, target_column, train_size, sarima_hyperparameters, end_date):\n",
    "    train_end = int(len(data) * train_size)\n",
    "    train_data = data[:train_end]\n",
    "    test_data = data[train_end:]\n",
    "\n",
    "    try:\n",
    "        # Create the SARIMA model\n",
    "        sarima_model = SARIMAX(train_data[target_column], **sarima_hyperparameters)\n",
    "        sarima_results = sarima_model.fit()\n",
    "\n",
    "        # Use the SARIMA model to predict future dates\n",
    "        forecast = sarima_results.get_forecast(steps=len(test_data) + len(pd.date_range(test_data.index[-1], end_date)))\n",
    "\n",
    "        # Get predicted values as a DataFrame\n",
    "        forecast_df = pd.DataFrame({'Date': forecast.predicted_mean.index, 'Predicted': forecast.predicted_mean})\n",
    "        forecast_df['Date'] = pd.to_datetime(forecast_df['Date'])  # Convert the 'Date' column to datetime\n",
    "    except Exception as e:\n",
    "        st.write(\"Error: An error occurred during model fitting. Try different model parameters or data preprocessing.\")\n",
    "        return None\n",
    "\n",
    "    return forecast_df"
   ]
  },
  {
   "cell_type": "code",
   "execution_count": 22,
   "id": "ab96c5cd",
   "metadata": {},
   "outputs": [
    {
     "ename": "NameError",
     "evalue": "name 'end_date' is not defined",
     "output_type": "error",
     "traceback": [
      "\u001b[1;31m---------------------------------------------------------------------------\u001b[0m",
      "\u001b[1;31mNameError\u001b[0m                                 Traceback (most recent call last)",
      "Cell \u001b[1;32mIn[22], line 2\u001b[0m\n\u001b[0;32m      1\u001b[0m forecast_df \u001b[38;5;241m=\u001b[39m create_and_predict_sarima_model(data, data\u001b[38;5;241m.\u001b[39mindex, data[\u001b[38;5;124m\"\u001b[39m\u001b[38;5;124mAdj Close\u001b[39m\u001b[38;5;124m\"\u001b[39m], DEFAULT_TRAIN_SIZE, \n\u001b[1;32m----> 2\u001b[0m                                               sarima_hyperparameters, end_date)\n",
      "\u001b[1;31mNameError\u001b[0m: name 'end_date' is not defined"
     ]
    }
   ],
   "source": [
    "forecast_df = create_and_predict_sarima_model(data, data.index, data[\"Adj Close\"], DEFAULT_TRAIN_SIZE, \n",
    "                                              sarima_hyperparameters, end_date)"
   ]
  },
  {
   "cell_type": "code",
   "execution_count": null,
   "id": "2faa3b1a",
   "metadata": {},
   "outputs": [],
   "source": []
  },
  {
   "cell_type": "code",
   "execution_count": null,
   "id": "4c046035",
   "metadata": {},
   "outputs": [],
   "source": [
    "# Define a function to extract and preprocess the data\n",
    "def load_and_preprocess_data(ticker):\n",
    "    # Data extraction starts from 2018-01-01\n",
    "    data = yf.download(ticker, start=\"2018-01-01\")\n",
    "    \n",
    "    \n",
    "    # Allow the user to specify the date column and target column\n",
    "    st.write(\"Select the date column:\")\n",
    "    date_column = st.selectbox(\"Date Column\", columns_list)\n",
    "    st.write(\"Select the target column:\")\n",
    "    target_column = st.selectbox(\"Target Column\", columns_list)\n",
    "    \n",
    "    # Reset the index and set the selected date column as the index\n",
    "    data.set_index(date_column, inplace=True)\n",
    "    \n",
    "    return data, date_column, target_column\n",
    "\n",
    "# Define a function to create a SARIMA model and make predictions\n",
    "def create_and_predict_sarima_model(data, date_column, target_column, train_size, sarima_hyperparameters, end_date):\n",
    "    train_end = int(len(data) * train_size)\n",
    "    train_data = data[:train_end]\n",
    "    test_data = data[train_end:]\n",
    "\n",
    "    try:\n",
    "        # Create the SARIMA model\n",
    "        sarima_model = SARIMAX(train_data[target_column], **sarima_hyperparameters)\n",
    "        sarima_results = sarima_model.fit()\n",
    "\n",
    "        # Use the SARIMA model to predict future dates\n",
    "        forecast = sarima_results.get_forecast(steps=len(test_data) + len(pd.date_range(test_data.index[-1], end_date)))\n",
    "\n",
    "        # Get predicted values as a DataFrame\n",
    "        forecast_df = pd.DataFrame({'Date': forecast.predicted_mean.index, 'Predicted': forecast.predicted_mean})\n",
    "        forecast_df['Date'] = pd.to_datetime(forecast_df['Date'])  # Convert the 'Date' column to datetime\n",
    "    except Exception as e:\n",
    "        st.write(\"Error: An error occurred during model fitting. Try different model parameters or data preprocessing.\")\n",
    "        return None\n",
    "\n",
    "    return forecast_df\n",
    "\n",
    "# Main Streamlit app\n",
    "st.title(\"Stock Price Prediction with SARIMA Model\")\n",
    "\n",
    "# User input for the stock ticker\n",
    "ticker = st.text_input(\"Enter a stock ticker (e.g., AAPL):\")\n",
    "\n",
    "if ticker:\n",
    "    data, date_column, target_column = load_and_preprocess_data(ticker)\n",
    "    st.write(\"Data loaded and preprocessed successfully.\")\n",
    "\n",
    "    sarima_hyperparameters = DEFAULT_SARIMA_HYPERPARAMETERS\n",
    "\n",
    "    st.write(\"Select the end date for predictions:\")\n",
    "    end_date = st.date_input(\"End Date\", pd.to_datetime(\"2023-01-01\"))\n",
    "\n",
    "    forecast_df = create_and_predict_sarima_model(data, date_column, target_column, DEFAULT_TRAIN_SIZE, sarima_hyperparameters, end_date)\n",
    "\n",
    "    if forecast_df is not None:\n",
    "        st.write(\"Model trained and predictions generated successfully.\")\n",
    "\n",
    "        # Visualize predictions using a table\n",
    "        st.subheader(f'Predictions table for {ticker}')\n",
    "        st.write(forecast_df)\n",
    "        st.line_chart(forecast_df, \"Date\", \"Predicted\")"
   ]
  },
  {
   "cell_type": "code",
   "execution_count": null,
   "id": "c1c6aefc",
   "metadata": {},
   "outputs": [],
   "source": []
  }
 ],
 "metadata": {
  "kernelspec": {
   "display_name": "Python 3 (ipykernel)",
   "language": "python",
   "name": "python3"
  },
  "language_info": {
   "codemirror_mode": {
    "name": "ipython",
    "version": 3
   },
   "file_extension": ".py",
   "mimetype": "text/x-python",
   "name": "python",
   "nbconvert_exporter": "python",
   "pygments_lexer": "ipython3",
   "version": "3.11.4"
  }
 },
 "nbformat": 4,
 "nbformat_minor": 5
}
