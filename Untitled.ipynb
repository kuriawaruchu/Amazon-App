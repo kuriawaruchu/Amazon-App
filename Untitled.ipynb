{
 "cells": [
  {
   "cell_type": "code",
   "execution_count": 24,
   "id": "774861ab",
   "metadata": {},
   "outputs": [],
   "source": [
    "import streamlit as st\n",
    "import yfinance as yf\n",
    "import pandas as pd\n",
    "from statsmodels.tsa.statespace.sarimax import SARIMAX\n",
    "from PIL import Image"
   ]
  },
  {
   "cell_type": "code",
   "execution_count": 25,
   "id": "427dcaac",
   "metadata": {},
   "outputs": [],
   "source": [
    "# Default parameters for training and SARIMA model\n",
    "DEFAULT_TRAIN_SIZE = 0.8\n",
    "DEFAULT_SARIMA_HYPERPARAMETERS = {\n",
    "    \"p\": 2,\n",
    "    \"d\": 0,\n",
    "    \"q\": 2,\n",
    "    \"seasonal_p\": 2,\n",
    "    \"seasonal_d\": 0,\n",
    "    \"seasonal_q\": 2,\n",
    "    \"s\": 5,\n",
    "}"
   ]
  },
  {
   "cell_type": "code",
   "execution_count": 26,
   "id": "764fc643",
   "metadata": {
    "scrolled": true
   },
   "outputs": [
    {
     "name": "stdout",
     "output_type": "stream",
     "text": [
      "[*********************100%%**********************]  1 of 1 completed\n"
     ]
    },
    {
     "data": {
      "text/html": [
       "<div>\n",
       "<style scoped>\n",
       "    .dataframe tbody tr th:only-of-type {\n",
       "        vertical-align: middle;\n",
       "    }\n",
       "\n",
       "    .dataframe tbody tr th {\n",
       "        vertical-align: top;\n",
       "    }\n",
       "\n",
       "    .dataframe thead th {\n",
       "        text-align: right;\n",
       "    }\n",
       "</style>\n",
       "<table border=\"1\" class=\"dataframe\">\n",
       "  <thead>\n",
       "    <tr style=\"text-align: right;\">\n",
       "      <th></th>\n",
       "      <th>Open</th>\n",
       "      <th>High</th>\n",
       "      <th>Low</th>\n",
       "      <th>Close</th>\n",
       "      <th>Adj Close</th>\n",
       "      <th>Volume</th>\n",
       "    </tr>\n",
       "    <tr>\n",
       "      <th>Date</th>\n",
       "      <th></th>\n",
       "      <th></th>\n",
       "      <th></th>\n",
       "      <th></th>\n",
       "      <th></th>\n",
       "      <th></th>\n",
       "    </tr>\n",
       "  </thead>\n",
       "  <tbody>\n",
       "    <tr>\n",
       "      <th>2008-01-02</th>\n",
       "      <td>4.7675</td>\n",
       "      <td>4.8715</td>\n",
       "      <td>4.7350</td>\n",
       "      <td>4.8125</td>\n",
       "      <td>4.8125</td>\n",
       "      <td>277174000</td>\n",
       "    </tr>\n",
       "    <tr>\n",
       "      <th>2008-01-03</th>\n",
       "      <td>4.8030</td>\n",
       "      <td>4.8625</td>\n",
       "      <td>4.7260</td>\n",
       "      <td>4.7605</td>\n",
       "      <td>4.7605</td>\n",
       "      <td>182450000</td>\n",
       "    </tr>\n",
       "    <tr>\n",
       "      <th>2008-01-04</th>\n",
       "      <td>4.6630</td>\n",
       "      <td>4.6700</td>\n",
       "      <td>4.4250</td>\n",
       "      <td>4.4395</td>\n",
       "      <td>4.4395</td>\n",
       "      <td>205400000</td>\n",
       "    </tr>\n",
       "    <tr>\n",
       "      <th>2008-01-07</th>\n",
       "      <td>4.4310</td>\n",
       "      <td>4.5285</td>\n",
       "      <td>4.2735</td>\n",
       "      <td>4.4410</td>\n",
       "      <td>4.4410</td>\n",
       "      <td>199632000</td>\n",
       "    </tr>\n",
       "    <tr>\n",
       "      <th>2008-01-08</th>\n",
       "      <td>4.3775</td>\n",
       "      <td>4.5915</td>\n",
       "      <td>4.3465</td>\n",
       "      <td>4.3940</td>\n",
       "      <td>4.3940</td>\n",
       "      <td>245666000</td>\n",
       "    </tr>\n",
       "  </tbody>\n",
       "</table>\n",
       "</div>"
      ],
      "text/plain": [
       "              Open    High     Low   Close  Adj Close     Volume\n",
       "Date                                                            \n",
       "2008-01-02  4.7675  4.8715  4.7350  4.8125     4.8125  277174000\n",
       "2008-01-03  4.8030  4.8625  4.7260  4.7605     4.7605  182450000\n",
       "2008-01-04  4.6630  4.6700  4.4250  4.4395     4.4395  205400000\n",
       "2008-01-07  4.4310  4.5285  4.2735  4.4410     4.4410  199632000\n",
       "2008-01-08  4.3775  4.5915  4.3465  4.3940     4.3940  245666000"
      ]
     },
     "execution_count": 26,
     "metadata": {},
     "output_type": "execute_result"
    }
   ],
   "source": [
    "data = yf.download(\"AMZN\",start='2008-01-01')\n",
    "\n",
    "df = pd.DataFrame(data)\n",
    "df.head(5)"
   ]
  },
  {
   "cell_type": "code",
   "execution_count": 27,
   "id": "c00fd8bf",
   "metadata": {},
   "outputs": [
    {
     "name": "stdout",
     "output_type": "stream",
     "text": [
      "<class 'pandas.core.frame.DataFrame'>\n",
      "DatetimeIndex: 3976 entries, 2008-01-02 to 2023-10-17\n",
      "Data columns (total 6 columns):\n",
      " #   Column     Non-Null Count  Dtype  \n",
      "---  ------     --------------  -----  \n",
      " 0   Open       3976 non-null   float64\n",
      " 1   High       3976 non-null   float64\n",
      " 2   Low        3976 non-null   float64\n",
      " 3   Close      3976 non-null   float64\n",
      " 4   Adj Close  3976 non-null   float64\n",
      " 5   Volume     3976 non-null   int64  \n",
      "dtypes: float64(5), int64(1)\n",
      "memory usage: 217.4 KB\n"
     ]
    }
   ],
   "source": [
    "data.info()"
   ]
  },
  {
   "cell_type": "code",
   "execution_count": 28,
   "id": "1b398ded",
   "metadata": {},
   "outputs": [
    {
     "data": {
      "text/plain": [
       "['Open', 'High', 'Low', 'Close', 'Adj Close', 'Volume']"
      ]
     },
     "execution_count": 28,
     "metadata": {},
     "output_type": "execute_result"
    }
   ],
   "source": [
    "# data.reset_index(inplace=True)\n",
    "columns_list = data.columns.to_list()\n",
    "columns_list"
   ]
  },
  {
   "cell_type": "code",
   "execution_count": 29,
   "id": "33805ce9",
   "metadata": {},
   "outputs": [],
   "source": [
    "sarima_hyperparameters = DEFAULT_SARIMA_HYPERPARAMETERS"
   ]
  },
  {
   "cell_type": "code",
   "execution_count": 30,
   "id": "60278fc4",
   "metadata": {},
   "outputs": [],
   "source": [
    "end_date = pd.to_datetime(\"2024-01-01\")"
   ]
  },
  {
   "cell_type": "code",
   "execution_count": 39,
   "id": "5da22544",
   "metadata": {},
   "outputs": [],
   "source": [
    "def create_and_predict_sarima_model(data, date_column, target_column, train_size, sarima_hyperparameters, end_date):\n",
    "    train_end = int(len(data) * train_size)\n",
    "    train_data = data[:train_end]\n",
    "    test_data = data[train_end:]\n",
    "\n",
    "    try:\n",
    "        # Create the SARIMA model\n",
    "        sarima_model = SARIMAX(train_data[target_column], **sarima_hyperparameters)\n",
    "        sarima_results = sarima_model.fit()\n",
    "\n",
    "        # Use the SARIMA model to predict future dates\n",
    "        forecast = sarima_results.get_forecast(steps=len(test_data) + len(pd.date_range(test_data.index[-1], end_date)))\n",
    "\n",
    "        # Get predicted values as a DataFrame\n",
    "        forecast_df = pd.DataFrame({'Date': forecast.predicted_mean.index, 'Predicted': forecast.predicted_mean})\n",
    "        forecast_df['Date'] = pd.to_datetime(forecast_df['Date'])  # Convert the 'Date' column to datetime\n",
    "    except Exception as e:\n",
    "        None\n",
    "        \n",
    "        return None\n",
    "\n",
    "    return forecast_df"
   ]
  },
  {
   "cell_type": "code",
   "execution_count": 40,
   "id": "7f282b6d",
   "metadata": {},
   "outputs": [
    {
     "data": {
      "text/plain": [
       "NoneType"
      ]
     },
     "execution_count": 40,
     "metadata": {},
     "output_type": "execute_result"
    }
   ],
   "source": [
    "forecast_df = create_and_predict_sarima_model(data, data.index, data[\"Adj Close\"], DEFAULT_TRAIN_SIZE, \n",
    "                                              sarima_hyperparameters, end_date)\n",
    "type(forecast_df)"
   ]
  },
  {
   "cell_type": "code",
   "execution_count": null,
   "id": "b2fa8d83",
   "metadata": {},
   "outputs": [],
   "source": []
  },
  {
   "cell_type": "code",
   "execution_count": 33,
   "id": "0eabd9ef",
   "metadata": {},
   "outputs": [],
   "source": [
    "# Define a function to extract and preprocess the data\n",
    "def load_and_preprocess_data(ticker):\n",
    "    # Data extraction starts from 2018-01-01\n",
    "    data = yf.download(ticker, start=\"2018-01-01\")\n",
    "    \n",
    "    \n",
    "    # Allow the user to specify the date column and target column\n",
    "    st.write(\"Select the date column:\")\n",
    "    date_column = st.selectbox(\"Date Column\", columns_list)\n",
    "    st.write(\"Select the target column:\")\n",
    "    target_column = st.selectbox(\"Target Column\", columns_list)\n",
    "    \n",
    "    # Reset the index and set the selected date column as the index\n",
    "    data.set_index(date_column, inplace=True)\n",
    "    \n",
    "    return data, date_column, target_column\n",
    "\n",
    "# Define a function to create a SARIMA model and make predictions\n",
    "def create_and_predict_sarima_model(data, date_column, target_column, train_size, sarima_hyperparameters, end_date):\n",
    "    train_end = int(len(data) * train_size)\n",
    "    train_data = data[:train_end]\n",
    "    test_data = data[train_end:]\n",
    "\n",
    "    try:\n",
    "        # Create the SARIMA model\n",
    "        sarima_model = SARIMAX(train_data[target_column], **sarima_hyperparameters)\n",
    "        sarima_results = sarima_model.fit()\n",
    "\n",
    "        # Use the SARIMA model to predict future dates\n",
    "        forecast = sarima_results.get_forecast(steps=len(test_data) + len(pd.date_range(test_data.index[-1], end_date)))\n",
    "\n",
    "        # Get predicted values as a DataFrame\n",
    "        forecast_df = pd.DataFrame({'Date': forecast.predicted_mean.index, 'Predicted': forecast.predicted_mean})\n",
    "        forecast_df['Date'] = pd.to_datetime(forecast_df['Date'])  # Convert the 'Date' column to datetime\n",
    "    except Exception as e:\n",
    "#         st.write(\"Error: An error occurred during model fitting. Try different model parameters or data preprocessing.\")\n",
    "        return None\n",
    "\n",
    "    return forecast_df\n",
    "\n",
    "# Main Streamlit app\n",
    "st.title(\"Stock Price Prediction with SARIMA Model\")\n",
    "\n",
    "# User input for the stock ticker\n",
    "ticker = st.text_input(\"Enter a stock ticker (e.g., AAPL):\")\n",
    "\n",
    "if ticker:\n",
    "    data, date_column, target_column = load_and_preprocess_data(ticker)\n",
    "    st.write(\"Data loaded and preprocessed successfully.\")\n",
    "\n",
    "    sarima_hyperparameters = DEFAULT_SARIMA_HYPERPARAMETERS\n",
    "\n",
    "    st.write(\"Select the end date for predictions:\")\n",
    "    end_date = st.date_input(\"End Date\", pd.to_datetime(\"2023-01-01\"))\n",
    "\n",
    "    forecast_df = create_and_predict_sarima_model(data, date_column, target_column, DEFAULT_TRAIN_SIZE, sarima_hyperparameters, end_date)\n",
    "\n",
    "    if forecast_df is not None:\n",
    "        st.write(\"Model trained and predictions generated successfully.\")\n",
    "\n",
    "        # Visualize predictions using a table\n",
    "        st.subheader(f'Predictions table for {ticker}')\n",
    "        st.write(forecast_df)\n",
    "        st.line_chart(forecast_df, \"Date\", \"Predicted\")"
   ]
  },
  {
   "cell_type": "code",
   "execution_count": 43,
   "id": "73613086",
   "metadata": {},
   "outputs": [
    {
     "name": "stdout",
     "output_type": "stream",
     "text": [
      "[*********************100%%**********************]  1 of 1 completed\n"
     ]
    },
    {
     "name": "stderr",
     "output_type": "stream",
     "text": [
      "C:\\Users\\Admin\\anaconda3\\Lib\\site-packages\\statsmodels\\tsa\\base\\tsa_model.py:473: ValueWarning: A date index has been provided, but it has no associated frequency information and so will be ignored when e.g. forecasting.\n",
      "  self._init_dates(dates, freq)\n",
      "C:\\Users\\Admin\\anaconda3\\Lib\\site-packages\\statsmodels\\tsa\\base\\tsa_model.py:473: ValueWarning: A date index has been provided, but it has no associated frequency information and so will be ignored when e.g. forecasting.\n",
      "  self._init_dates(dates, freq)\n",
      "C:\\Users\\Admin\\anaconda3\\Lib\\site-packages\\statsmodels\\tsa\\statespace\\representation.py:374: FutureWarning: Unknown keyword arguments: dict_keys(['p', 'd', 'q', 'seasonal_p', 'seasonal_d', 'seasonal_q', 's']).Passing unknown keyword arguments will raise a TypeError beginning in version 0.15.\n",
      "  warnings.warn(msg, FutureWarning)\n",
      "C:\\Users\\Admin\\anaconda3\\Lib\\site-packages\\statsmodels\\tsa\\statespace\\sarimax.py:966: UserWarning: Non-stationary starting autoregressive parameters found. Using zeros as starting parameters.\n",
      "  warn('Non-stationary starting autoregressive parameters'\n"
     ]
    },
    {
     "name": "stdout",
     "output_type": "stream",
     "text": [
      "                        Date   Predicted\n",
      "3976 1970-01-01 00:00:03.976  131.444002\n",
      "3977 1970-01-01 00:00:03.977  131.418009\n",
      "3978 1970-01-01 00:00:03.978  131.392020\n",
      "3979 1970-01-01 00:00:03.979  131.366037\n",
      "3980 1970-01-01 00:00:03.980  131.340059\n",
      "...                      ...         ...\n",
      "4048 1970-01-01 00:00:04.048  129.585537\n",
      "4049 1970-01-01 00:00:04.049  129.559910\n",
      "4050 1970-01-01 00:00:04.050  129.534289\n",
      "4051 1970-01-01 00:00:04.051  129.508673\n",
      "4052 1970-01-01 00:00:04.052  129.483062\n",
      "\n",
      "[77 rows x 2 columns]\n"
     ]
    },
    {
     "name": "stderr",
     "output_type": "stream",
     "text": [
      "C:\\Users\\Admin\\anaconda3\\Lib\\site-packages\\statsmodels\\tsa\\base\\tsa_model.py:836: ValueWarning: No supported index is available. Prediction results will be given with an integer index beginning at `start`.\n",
      "  return get_prediction_index(\n",
      "C:\\Users\\Admin\\anaconda3\\Lib\\site-packages\\statsmodels\\tsa\\base\\tsa_model.py:836: FutureWarning: No supported index is available. In the next version, calling this method in a model without a supported index will result in an exception.\n",
      "  return get_prediction_index(\n"
     ]
    }
   ],
   "source": [
    "import yfinance as yf\n",
    "import pandas as pd\n",
    "from statsmodels.tsa.statespace.sarimax import SARIMAX\n",
    "\n",
    "# Download data from Yahoo Finance\n",
    "data = yf.download(\"AMZN\", start='2008-01-01')\n",
    "\n",
    "# Create a DataFrame from the downloaded data\n",
    "df = pd.DataFrame(data)\n",
    "\n",
    "# Specify SARIMA hyperparameters\n",
    "sarima_hyperparameters = {\n",
    "    \"p\": 2,\n",
    "    \"d\": 0,\n",
    "    \"q\": 2,\n",
    "    \"seasonal_p\": 2,\n",
    "    \"seasonal_d\": 0,\n",
    "    \"seasonal_q\": 2,\n",
    "    \"s\": 5,\n",
    "}\n",
    "\n",
    "# Set the end date for forecasting\n",
    "end_date = pd.to_datetime(\"2024-01-01\")\n",
    "\n",
    "# Create the SARIMA model\n",
    "sarima_model = SARIMAX(df[\"Adj Close\"], **sarima_hyperparameters)\n",
    "sarima_results = sarima_model.fit()\n",
    "\n",
    "# Use the SARIMA model to predict future dates\n",
    "forecast = sarima_results.get_forecast(steps=len(pd.date_range(df.index[-1], end_date)))\n",
    "\n",
    "# Get predicted values as a DataFrame\n",
    "forecast_df = pd.DataFrame({'Date': forecast.predicted_mean.index, 'Predicted': forecast.predicted_mean})\n",
    "forecast_df['Date'] = pd.to_datetime(forecast_df['Date'], unit=\"ms\")  # Convert the 'Date' column to datetime\n",
    "\n",
    "# Print the forecasted DataFrame\n",
    "print(forecast_df)\n"
   ]
  },
  {
   "cell_type": "code",
   "execution_count": 44,
   "id": "68e85759",
   "metadata": {},
   "outputs": [
    {
     "name": "stdout",
     "output_type": "stream",
     "text": [
      "<statsmodels.tsa.statespace.mlemodel.PredictionResultsWrapper object at 0x000002143C4348D0>\n"
     ]
    }
   ],
   "source": [
    "print(forecast)"
   ]
  },
  {
   "cell_type": "code",
   "execution_count": 45,
   "id": "b1d970fc",
   "metadata": {},
   "outputs": [
    {
     "name": "stdout",
     "output_type": "stream",
     "text": [
      "3976    131.444002\n",
      "3977    131.418009\n",
      "3978    131.392020\n",
      "3979    131.366037\n",
      "3980    131.340059\n",
      "           ...    \n",
      "4048    129.585537\n",
      "4049    129.559910\n",
      "4050    129.534289\n",
      "4051    129.508673\n",
      "4052    129.483062\n",
      "Name: predicted_mean, Length: 77, dtype: float64\n"
     ]
    },
    {
     "name": "stderr",
     "output_type": "stream",
     "text": [
      "C:\\Users\\Admin\\anaconda3\\Lib\\site-packages\\statsmodels\\tsa\\base\\tsa_model.py:836: ValueWarning: No supported index is available. Prediction results will be given with an integer index beginning at `start`.\n",
      "  return get_prediction_index(\n",
      "C:\\Users\\Admin\\anaconda3\\Lib\\site-packages\\statsmodels\\tsa\\base\\tsa_model.py:836: FutureWarning: No supported index is available. In the next version, calling this method in a model without a supported index will result in an exception.\n",
      "  return get_prediction_index(\n"
     ]
    }
   ],
   "source": [
    "# Use the SARIMA model to predict future dates\n",
    "forecast = sarima_results.get_forecast(steps=len(pd.date_range(df.index[-1], end_date)))\n",
    "\n",
    "# Get the predicted values as a Pandas Series\n",
    "predicted_values = forecast.predicted_mean\n",
    "\n",
    "# Print the predicted values\n",
    "print(predicted_values)\n"
   ]
  },
  {
   "cell_type": "code",
   "execution_count": 52,
   "id": "24b515b0",
   "metadata": {
    "scrolled": true
   },
   "outputs": [
    {
     "name": "stdout",
     "output_type": "stream",
     "text": [
      "[*********************100%%**********************]  1 of 1 completed\n"
     ]
    },
    {
     "name": "stderr",
     "output_type": "stream",
     "text": [
      "C:\\Users\\Admin\\anaconda3\\Lib\\site-packages\\statsmodels\\tsa\\base\\tsa_model.py:473: ValueWarning: A date index has been provided, but it has no associated frequency information and so will be ignored when e.g. forecasting.\n",
      "  self._init_dates(dates, freq)\n",
      "C:\\Users\\Admin\\anaconda3\\Lib\\site-packages\\statsmodels\\tsa\\base\\tsa_model.py:473: ValueWarning: A date index has been provided, but it has no associated frequency information and so will be ignored when e.g. forecasting.\n",
      "  self._init_dates(dates, freq)\n",
      "C:\\Users\\Admin\\anaconda3\\Lib\\site-packages\\statsmodels\\tsa\\statespace\\representation.py:374: FutureWarning: Unknown keyword arguments: dict_keys(['p', 'd', 'q', 'seasonal_p', 'seasonal_d', 'seasonal_q', 's']).Passing unknown keyword arguments will raise a TypeError beginning in version 0.15.\n",
      "  warnings.warn(msg, FutureWarning)\n",
      "C:\\Users\\Admin\\anaconda3\\Lib\\site-packages\\statsmodels\\tsa\\statespace\\sarimax.py:966: UserWarning: Non-stationary starting autoregressive parameters found. Using zeros as starting parameters.\n",
      "  warn('Non-stationary starting autoregressive parameters'\n"
     ]
    },
    {
     "name": "stdout",
     "output_type": "stream",
     "text": [
      "           Date   Predicted\n",
      "3976 2023-10-18  131.444002\n",
      "3977 2023-10-19  131.418009\n",
      "3978 2023-10-20  131.392020\n",
      "3979 2023-10-21  131.366037\n",
      "3980 2023-10-22  131.340059\n",
      "...         ...         ...\n",
      "4048 2023-12-29  129.585537\n",
      "4049 2023-12-30  129.559910\n",
      "4050 2023-12-31  129.534289\n",
      "4051 2024-01-01  129.508673\n",
      "4052 2024-01-02  129.483062\n",
      "\n",
      "[77 rows x 2 columns]\n"
     ]
    },
    {
     "name": "stderr",
     "output_type": "stream",
     "text": [
      "C:\\Users\\Admin\\anaconda3\\Lib\\site-packages\\statsmodels\\tsa\\base\\tsa_model.py:836: ValueWarning: No supported index is available. Prediction results will be given with an integer index beginning at `start`.\n",
      "  return get_prediction_index(\n",
      "C:\\Users\\Admin\\anaconda3\\Lib\\site-packages\\statsmodels\\tsa\\base\\tsa_model.py:836: FutureWarning: No supported index is available. In the next version, calling this method in a model without a supported index will result in an exception.\n",
      "  return get_prediction_index(\n"
     ]
    }
   ],
   "source": [
    "import yfinance as yf\n",
    "import pandas as pd\n",
    "from statsmodels.tsa.statespace.sarimax import SARIMAX\n",
    "\n",
    "# Download data from Yahoo Finance\n",
    "data = yf.download(\"AMZN\", start='2008-01-01')\n",
    "\n",
    "# Create a DataFrame from the downloaded data\n",
    "df = pd.DataFrame(data)\n",
    "\n",
    "# Specify SARIMA hyperparameters\n",
    "sarima_hyperparameters = {\n",
    "    \"p\": 2,\n",
    "    \"d\": 0,\n",
    "    \"q\": 2,\n",
    "    \"seasonal_p\": 2,\n",
    "    \"seasonal_d\": 0,\n",
    "    \"seasonal_q\": 2,\n",
    "    \"s\": 5,\n",
    "}\n",
    "\n",
    "# Set the end date for forecasting\n",
    "end_date = pd.to_datetime(\"2024-01-01\")\n",
    "\n",
    "# Create the SARIMA model\n",
    "sarima_model = SARIMAX(df[\"Adj Close\"], **sarima_hyperparameters)\n",
    "sarima_results = sarima_model.fit()\n",
    "\n",
    "# Use the SARIMA model to predict future dates\n",
    "forecast = sarima_results.get_forecast(steps=len(pd.date_range(df.index[-1], end_date)))\n",
    "\n",
    "# Get the predicted values as a Pandas Series\n",
    "predicted_values = forecast.predicted_mean\n",
    "\n",
    "# Create a date range starting from the day after the last date in the yfinance data\n",
    "start_date = df.index[-1] + pd.DateOffset(days=1)\n",
    "date_range = pd.date_range(start=start_date, periods=len(predicted_values))\n",
    "\n",
    "# Create a DataFrame with 'Date' and 'Predicted' columns\n",
    "forecast_df = pd.DataFrame({'Date': date_range, 'Predicted': predicted_values})\n",
    "\n",
    "# Print the forecasted DataFrame\n",
    "print(forecast_df)\n",
    "\n"
   ]
  },
  {
   "cell_type": "code",
   "execution_count": 54,
   "id": "130759ce",
   "metadata": {},
   "outputs": [],
   "source": [
    "forecast_df = forecast_df.set_index(\"Date\")"
   ]
  },
  {
   "cell_type": "code",
   "execution_count": 55,
   "id": "9c0029f5",
   "metadata": {},
   "outputs": [
    {
     "data": {
      "text/html": [
       "<div>\n",
       "<style scoped>\n",
       "    .dataframe tbody tr th:only-of-type {\n",
       "        vertical-align: middle;\n",
       "    }\n",
       "\n",
       "    .dataframe tbody tr th {\n",
       "        vertical-align: top;\n",
       "    }\n",
       "\n",
       "    .dataframe thead th {\n",
       "        text-align: right;\n",
       "    }\n",
       "</style>\n",
       "<table border=\"1\" class=\"dataframe\">\n",
       "  <thead>\n",
       "    <tr style=\"text-align: right;\">\n",
       "      <th></th>\n",
       "      <th>Predicted</th>\n",
       "    </tr>\n",
       "    <tr>\n",
       "      <th>Date</th>\n",
       "      <th></th>\n",
       "    </tr>\n",
       "  </thead>\n",
       "  <tbody>\n",
       "    <tr>\n",
       "      <th>2023-10-18</th>\n",
       "      <td>131.444002</td>\n",
       "    </tr>\n",
       "    <tr>\n",
       "      <th>2023-10-19</th>\n",
       "      <td>131.418009</td>\n",
       "    </tr>\n",
       "    <tr>\n",
       "      <th>2023-10-20</th>\n",
       "      <td>131.392020</td>\n",
       "    </tr>\n",
       "    <tr>\n",
       "      <th>2023-10-21</th>\n",
       "      <td>131.366037</td>\n",
       "    </tr>\n",
       "    <tr>\n",
       "      <th>2023-10-22</th>\n",
       "      <td>131.340059</td>\n",
       "    </tr>\n",
       "  </tbody>\n",
       "</table>\n",
       "</div>"
      ],
      "text/plain": [
       "             Predicted\n",
       "Date                  \n",
       "2023-10-18  131.444002\n",
       "2023-10-19  131.418009\n",
       "2023-10-20  131.392020\n",
       "2023-10-21  131.366037\n",
       "2023-10-22  131.340059"
      ]
     },
     "execution_count": 55,
     "metadata": {},
     "output_type": "execute_result"
    }
   ],
   "source": [
    "forecast_df.head()"
   ]
  },
  {
   "cell_type": "code",
   "execution_count": null,
   "id": "2c994d8c",
   "metadata": {},
   "outputs": [],
   "source": []
  }
 ],
 "metadata": {
  "kernelspec": {
   "display_name": "Python 3 (ipykernel)",
   "language": "python",
   "name": "python3"
  },
  "language_info": {
   "codemirror_mode": {
    "name": "ipython",
    "version": 3
   },
   "file_extension": ".py",
   "mimetype": "text/x-python",
   "name": "python",
   "nbconvert_exporter": "python",
   "pygments_lexer": "ipython3",
   "version": "3.11.4"
  }
 },
 "nbformat": 4,
 "nbformat_minor": 5
}
